{
 "cells": [
  {
   "cell_type": "code",
   "execution_count": 88,
   "metadata": {},
   "outputs": [],
   "source": [
    "from pydoc import classname\n",
    "from selenium import webdriver\n",
    "from webdriver_manager.chrome import ChromeDriverManager\n",
    "from selenium.webdriver.chrome.service import Service as ChromeService\n",
    "from selenium.webdriver.edge.service import Service as EdgeService\n",
    "from selenium.webdriver.firefox.service import Service as FirefoxService\n",
    "from selenium.webdriver.ie.service import Service as IEService\n",
    "from selenium.webdriver.common.keys import Keys\n",
    "from ipywidgets import widgets\n",
    "from IPython.display import FileLink\n",
    "from datetime import date\n",
    "import requests\n",
    "from bs4 import BeautifulSoup\n",
    "import pandas as pd\n",
    "import time\n",
    "import os\n"
   ]
  },
  {
   "cell_type": "code",
   "execution_count": 91,
   "metadata": {},
   "outputs": [
    {
     "name": "stdout",
     "output_type": "stream",
     "text": [
      "This is for searching New Castle County \n",
      "\n",
      "\n"
     ]
    },
    {
     "data": {
      "application/vnd.jupyter.widget-view+json": {
       "model_id": "e0eb3d96e8b246919ff421fd21aca471",
       "version_major": 2,
       "version_minor": 0
      },
      "text/plain": [
       "Label(value='Parcel Number')"
      ]
     },
     "metadata": {},
     "output_type": "display_data"
    },
    {
     "data": {
      "application/vnd.jupyter.widget-view+json": {
       "model_id": "5de2a442aa504864a525b773c331c158",
       "version_major": 2,
       "version_minor": 0
      },
      "text/plain": [
       "Text(value='')"
      ]
     },
     "metadata": {},
     "output_type": "display_data"
    },
    {
     "data": {
      "application/vnd.jupyter.widget-view+json": {
       "model_id": "dd1511118938496ea0b2277c8ccc47ad",
       "version_major": 2,
       "version_minor": 0
      },
      "text/plain": [
       "Button(description='Get Infomation', style=ButtonStyle())"
      ]
     },
     "metadata": {},
     "output_type": "display_data"
    },
    {
     "data": {
      "application/vnd.jupyter.widget-view+json": {
       "model_id": "2dc76b01124c4d818f375ad40a5d71d0",
       "version_major": 2,
       "version_minor": 0
      },
      "text/plain": [
       "Button(description='Get Excel Sheet', style=ButtonStyle())"
      ]
     },
     "metadata": {},
     "output_type": "display_data"
    },
    {
     "data": {
      "application/vnd.jupyter.widget-view+json": {
       "model_id": "3bd25114bf504d3884e7a2460f341dfe",
       "version_major": 2,
       "version_minor": 0
      },
      "text/plain": [
       "Output()"
      ]
     },
     "metadata": {},
     "output_type": "display_data"
    }
   ],
   "source": [
    "# Get what we need from Forward Real Estate - a parcel # and what exact site to search\n",
    "print(\"This is for searching New Castle County \\n\\n\")\n",
    "#parcel_number = input('Enter your parcel number: ')\n",
    "parcel_label = widgets.Label('Parcel Number')\n",
    "display(parcel_label)\n",
    "parcel_input = widgets.Text()\n",
    "display(parcel_input)\n",
    "button = widgets.Button(description=\"Get Infomation\")\n",
    "display(button)\n",
    "todays_date = date.today()\n",
    "\n",
    "\n",
    "def get_parcel_info(b):\n",
    "    parcel_number = parcel_input.value\n",
    "    service = ChromeService(executable_path=ChromeDriverManager().install())\n",
    "\n",
    "    website_search_url = 'http://www3.nccde.org/parcel/search/'\n",
    "\n",
    "    print(\"PARCEL NUMBER\", parcel_number)\n",
    "    # Navigate to the site\n",
    "    driver = webdriver.Chrome(service.path)\n",
    "    driver.implicitly_wait(3)\n",
    "    driver.get(website_search_url)\n",
    "\n",
    "    # for now we'll use an implicit wait for our waiting strategy --- WILL CHANGE cc selenium site\n",
    "    #Get the parcel number box\n",
    "    parcel_search_box = driver.find_element_by_xpath('//*[@id=\"ctl00_ctl00_ContentPlaceHolder1_ContentPlaceHolder1__TextBoxParcelNumber\"]')\n",
    "    parcel_search_box.send_keys(parcel_number)\n",
    "    search_button = driver.find_element_by_xpath('//*[@id=\"ctl00_ctl00_ContentPlaceHolder1_ContentPlaceHolder1__ButtonSearch\"]')\n",
    "    search_button.click()\n",
    "    details = driver.find_element_by_xpath('//*[@id=\"ctl00_ctl00_ContentPlaceHolder1_ContentPlaceHolder1__GridViewResults_ctl02__LinkButtonDetails\"]')\n",
    "    details.click()\n",
    "    time.sleep(5)\n",
    "    detail_url = driver.current_url\n",
    "    driver.quit()\n",
    "\n",
    "    #parsing HTML\n",
    "    page = requests.get(detail_url)\n",
    "    page_html = BeautifulSoup(page.text, 'html.parser')\n",
    "    residence_characteristics = page_html.find(\"div\", class_=\"residence level4\")\n",
    "    table = residence_characteristics.find(\"table\", class_=\"form\")\n",
    "    all_rows = table.find_all('tr')\n",
    "\n",
    "    ## Creating the df\n",
    "    parcel_dictionary = {'Parcel #': parcel_number}\n",
    "    house_data = []\n",
    "    for row in all_rows:\n",
    "        columns = row.find_all('td')\n",
    "        columns = [elem.text.strip() for elem in columns]\n",
    "        house_data.append([elem for elem in columns])\n",
    "\n",
    "\n",
    "    features = []\n",
    "    data = []\n",
    "    for sublist in house_data:\n",
    "        for i in range(len(sublist)):\n",
    "            if i % 2 == 0:\n",
    "                elem = sublist[i].replace(':', '')\n",
    "                features.append(elem)\n",
    "            else:\n",
    "                data.append(sublist[i])\n",
    "\n",
    "    for i in range(len(features)):\n",
    "        parcel_dictionary[features[i]] = data[i]\n",
    "\n",
    "    del parcel_dictionary['']\n",
    "    parcel_data_df = pd.DataFrame([parcel_dictionary])\n",
    "\n",
    "\n",
    "    # export to excel\n",
    "    parcel_data_df.to_excel(f'./{todays_date}-parcel_sheet_export.xlsx', index = False)\n",
    "    #display(FileLink(f'./{todays_date}-parcel_sheet_export.xlsx'))\n",
    "    print('Your excel sheet is done! Thanks!')\n",
    "    display(FileLink('README.md'))\n",
    "\n",
    "button2 = widgets.Button(description=\"Get Excel Sheet\")\n",
    "output = widgets.Output()\n",
    "display(button2, output)\n",
    "def get_excel_sheet_link(b):\n",
    "    with output:\n",
    "        display(FileLink(f'./{todays_date}-parcel_sheet_export.xlsx'))\n",
    "\n",
    "button.on_click(get_parcel_info)\n",
    "button2.on_click(get_excel_sheet_link)\n"
   ]
  }
 ],
 "metadata": {
  "interpreter": {
   "hash": "aee8b7b246df8f9039afb4144a1f6fd8d2ca17a180786b69acc140d282b71a49"
  },
  "kernelspec": {
   "display_name": "Python 3.7.4 64-bit",
   "language": "python",
   "name": "python3"
  },
  "language_info": {
   "codemirror_mode": {
    "name": "ipython",
    "version": 3
   },
   "file_extension": ".py",
   "mimetype": "text/x-python",
   "name": "python",
   "nbconvert_exporter": "python",
   "pygments_lexer": "ipython3",
   "version": "3.7.4"
  }
 },
 "nbformat": 4,
 "nbformat_minor": 2
}
